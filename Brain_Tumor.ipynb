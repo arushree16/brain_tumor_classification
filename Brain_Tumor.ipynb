{
  "metadata": {
    "kernelspec": {
      "language": "python",
      "display_name": "Python 3",
      "name": "python3"
    },
    "language_info": {
      "name": "python",
      "version": "3.11.11",
      "mimetype": "text/x-python",
      "codemirror_mode": {
        "name": "ipython",
        "version": 3
      },
      "pygments_lexer": "ipython3",
      "nbconvert_exporter": "python",
      "file_extension": ".py"
    },
    "kaggle": {
      "accelerator": "gpu",
      "dataSources": [
        {
          "sourceId": 2645886,
          "sourceType": "datasetVersion",
          "datasetId": 1608934
        }
      ],
      "dockerImageVersionId": 31012,
      "isInternetEnabled": true,
      "language": "python",
      "sourceType": "notebook",
      "isGpuEnabled": true
    },
    "colab": {
      "provenance": []
    }
  },
  "nbformat_minor": 0,
  "nbformat": 4,
  "cells": [
    {
      "cell_type": "code",
      "source": [
        "import numpy as np\n",
        "import pandas as pd"
      ],
      "metadata": {
        "_cell_guid": "b1076dfc-b9ad-4769-8c92-a6c4dae69d19",
        "_kg_hide-input": true,
        "_kg_hide-output": true,
        "_uuid": "8f2839f25d086af736a60e9eeb907d3b93b6e0e5",
        "collapsed": true,
        "execution": {
          "iopub.execute_input": "2025-04-19T16:01:11.533316Z",
          "iopub.status.busy": "2025-04-19T16:01:11.533043Z",
          "iopub.status.idle": "2025-04-19T16:01:15.878808Z",
          "shell.execute_reply": "2025-04-19T16:01:15.878119Z",
          "shell.execute_reply.started": "2025-04-19T16:01:11.533296Z"
        },
        "jupyter": {
          "outputs_hidden": true
        },
        "trusted": true,
        "id": "h70jpkVIxKJf"
      },
      "outputs": [],
      "execution_count": null
    },
    {
      "cell_type": "code",
      "source": [
        "import os\n",
        "import random\n",
        "import numpy as np\n",
        "import matplotlib.pyplot as plt\n",
        "import seaborn as sns\n",
        "from PIL import Image\n",
        "from sklearn.metrics import confusion_matrix, classification_report\n",
        "from sklearn.model_selection import train_test_split\n",
        "import torch\n",
        "import torch.optim as optim\n",
        "import torch.nn as nn\n",
        "from torch.utils.data import Dataset, DataLoader\n",
        "import torchvision.transforms as transforms\n",
        "from torchvision import models, datasets"
      ],
      "metadata": {
        "execution": {
          "iopub.execute_input": "2025-04-19T16:01:15.880392Z",
          "iopub.status.busy": "2025-04-19T16:01:15.880035Z",
          "iopub.status.idle": "2025-04-19T16:01:23.792659Z",
          "shell.execute_reply": "2025-04-19T16:01:23.7921Z",
          "shell.execute_reply.started": "2025-04-19T16:01:15.880372Z"
        },
        "trusted": true,
        "id": "YlhBihcpxKJm"
      },
      "outputs": [],
      "execution_count": null
    },
    {
      "cell_type": "code",
      "source": [
        "base_directory = '/kaggle/input/brain-tumor-mri-dataset'\n",
        "train, test = 'Training', 'Testing'\n",
        "target_size = (224, 224)\n",
        "random_state = 42\n",
        "batch_size = 16\n",
        "num_classes = 4\n",
        "device = \"cuda\" if torch.cuda.is_available() else \"cpu\"\n",
        "label_map = {\n",
        "    'notumor': 0,\n",
        "    'glioma': 1,\n",
        "    'meningioma': 2,\n",
        "    'pituitary': 3\n",
        "}"
      ],
      "metadata": {
        "execution": {
          "iopub.execute_input": "2025-04-19T16:01:23.793597Z",
          "iopub.status.busy": "2025-04-19T16:01:23.793281Z",
          "iopub.status.idle": "2025-04-19T16:01:23.843425Z",
          "shell.execute_reply": "2025-04-19T16:01:23.842616Z",
          "shell.execute_reply.started": "2025-04-19T16:01:23.793578Z"
        },
        "trusted": true,
        "id": "DKIdsiAsxKJo"
      },
      "outputs": [],
      "execution_count": null
    },
    {
      "cell_type": "code",
      "source": [
        "categories = os.listdir(base_directory+'/'+train)\n",
        "print(categories)"
      ],
      "metadata": {
        "execution": {
          "iopub.execute_input": "2025-04-19T16:01:23.846064Z",
          "iopub.status.busy": "2025-04-19T16:01:23.845713Z",
          "iopub.status.idle": "2025-04-19T16:01:23.863065Z",
          "shell.execute_reply": "2025-04-19T16:01:23.862384Z",
          "shell.execute_reply.started": "2025-04-19T16:01:23.846039Z"
        },
        "trusted": true,
        "id": "6tUHDASOxKJp"
      },
      "outputs": [],
      "execution_count": null
    },
    {
      "cell_type": "code",
      "source": [
        "def display_images(dataset_type, num_images=4, image_size=(224, 224)):\n",
        "\n",
        "    dataset_path = os.path.join(base_directory, dataset_type)\n",
        "\n",
        "    fig, axes = plt.subplots(len(categories), num_images, figsize=(15, 10))\n",
        "\n",
        "    for row, category in enumerate(categories):\n",
        "        category_path = os.path.join(dataset_path, category)\n",
        "        image_filenames = random.sample(os.listdir(category_path), num_images)  # Select random images\n",
        "\n",
        "        for col, image_filename in enumerate(image_filenames):\n",
        "            while image_filename == '.DS_Store':\n",
        "                image_filename = random.sample(os.listdir(category_path), 1)[0]\n",
        "            image_path = os.path.join(category_path, image_filename)\n",
        "            image = Image.open(image_path).resize(image_size)\n",
        "            axes[row, col].imshow(image, cmap='gray')\n",
        "            axes[row, col].axis('off')\n",
        "            axes[row, col].set_title(f\"{category}\")\n",
        "\n",
        "    plt.tight_layout()\n",
        "    plt.show()"
      ],
      "metadata": {
        "execution": {
          "iopub.execute_input": "2025-04-19T19:45:56.266399Z",
          "iopub.status.busy": "2025-04-19T19:45:56.265694Z",
          "iopub.status.idle": "2025-04-19T19:45:56.272105Z",
          "shell.execute_reply": "2025-04-19T19:45:56.271371Z",
          "shell.execute_reply.started": "2025-04-19T19:45:56.266374Z"
        },
        "trusted": true,
        "id": "bS9_gO4kxKJq"
      },
      "outputs": [],
      "execution_count": null
    },
    {
      "cell_type": "code",
      "source": [
        "def plot_class_distribution(dataset_type):\n",
        "    path = os.path.join(base_directory, dataset_type)\n",
        "    counts = [len(os.listdir(os.path.join(path, cat))) for cat in categories]\n",
        "\n",
        "    plt.bar(categories, counts, color = ['navy', 'teal', 'darkorange', 'crimson'])\n",
        "    plt.xlabel(\"Class\")\n",
        "    plt.ylabel(\"Number of Images\")\n",
        "    plt.title(f\"{dataset_type.capitalize()} Set Distribution\")\n",
        "    plt.show()"
      ],
      "metadata": {
        "execution": {
          "iopub.execute_input": "2025-04-19T16:01:23.876003Z",
          "iopub.status.busy": "2025-04-19T16:01:23.875791Z",
          "iopub.status.idle": "2025-04-19T16:01:23.890671Z",
          "shell.execute_reply": "2025-04-19T16:01:23.889986Z",
          "shell.execute_reply.started": "2025-04-19T16:01:23.875981Z"
        },
        "trusted": true,
        "id": "h0lgiQaOxKJr"
      },
      "outputs": [],
      "execution_count": null
    },
    {
      "cell_type": "code",
      "source": [
        "plot_class_distribution(train)"
      ],
      "metadata": {
        "execution": {
          "iopub.execute_input": "2025-04-19T16:01:23.891572Z",
          "iopub.status.busy": "2025-04-19T16:01:23.891407Z",
          "iopub.status.idle": "2025-04-19T16:01:24.093831Z",
          "shell.execute_reply": "2025-04-19T16:01:24.093064Z",
          "shell.execute_reply.started": "2025-04-19T16:01:23.891559Z"
        },
        "trusted": true,
        "id": "Uop_gq22xKJs"
      },
      "outputs": [],
      "execution_count": null
    },
    {
      "cell_type": "code",
      "source": [
        "display_images(train)"
      ],
      "metadata": {
        "execution": {
          "iopub.execute_input": "2025-04-19T19:46:00.744234Z",
          "iopub.status.busy": "2025-04-19T19:46:00.743951Z",
          "iopub.status.idle": "2025-04-19T19:46:01.79338Z",
          "shell.execute_reply": "2025-04-19T19:46:01.792677Z",
          "shell.execute_reply.started": "2025-04-19T19:46:00.744212Z"
        },
        "trusted": true,
        "id": "YvUqyJvTxKJs"
      },
      "outputs": [],
      "execution_count": null
    },
    {
      "cell_type": "code",
      "source": [
        "plot_class_distribution(test)"
      ],
      "metadata": {
        "execution": {
          "iopub.execute_input": "2025-04-19T16:01:25.113966Z",
          "iopub.status.busy": "2025-04-19T16:01:25.113757Z",
          "iopub.status.idle": "2025-04-19T16:01:25.243006Z",
          "shell.execute_reply": "2025-04-19T16:01:25.242303Z",
          "shell.execute_reply.started": "2025-04-19T16:01:25.11395Z"
        },
        "trusted": true,
        "id": "biz4iULIxKJt"
      },
      "outputs": [],
      "execution_count": null
    },
    {
      "cell_type": "code",
      "source": [
        "display_images(test)"
      ],
      "metadata": {
        "execution": {
          "iopub.execute_input": "2025-04-19T19:46:15.217349Z",
          "iopub.status.busy": "2025-04-19T19:46:15.217077Z",
          "iopub.status.idle": "2025-04-19T19:46:16.460295Z",
          "shell.execute_reply": "2025-04-19T19:46:16.459448Z",
          "shell.execute_reply.started": "2025-04-19T19:46:15.217331Z"
        },
        "trusted": true,
        "id": "PAB7LmXxxKJt"
      },
      "outputs": [],
      "execution_count": null
    },
    {
      "cell_type": "code",
      "source": [
        "def create_dataset(path):\n",
        "    my_list = []\n",
        "    for category in categories:\n",
        "        category_path = os.path.join(path, category)\n",
        "        for file_name in os.listdir(category_path):\n",
        "            file_path = os.path.join(category_path, file_name)\n",
        "            # Ensure we're only adding image files\n",
        "            if os.path.isfile(file_path) and file_name.lower().endswith(('.png', '.jpg', '.jpeg')):\n",
        "                my_list.append([file_path, category])\n",
        "    return pd.DataFrame(my_list, columns=['file_path', 'label'])"
      ],
      "metadata": {
        "execution": {
          "iopub.execute_input": "2025-04-19T16:01:26.284412Z",
          "iopub.status.busy": "2025-04-19T16:01:26.284224Z",
          "iopub.status.idle": "2025-04-19T16:01:26.289017Z",
          "shell.execute_reply": "2025-04-19T16:01:26.28842Z",
          "shell.execute_reply.started": "2025-04-19T16:01:26.284397Z"
        },
        "trusted": true,
        "id": "Jl4qwpERxKJu"
      },
      "outputs": [],
      "execution_count": null
    },
    {
      "cell_type": "code",
      "source": [
        "train_df = create_dataset(base_directory+'/'+train)\n",
        "test_df = create_dataset(base_directory+'/'+test)"
      ],
      "metadata": {
        "execution": {
          "iopub.execute_input": "2025-04-19T16:01:26.290241Z",
          "iopub.status.busy": "2025-04-19T16:01:26.289917Z",
          "iopub.status.idle": "2025-04-19T16:01:29.574274Z",
          "shell.execute_reply": "2025-04-19T16:01:29.573709Z",
          "shell.execute_reply.started": "2025-04-19T16:01:26.290215Z"
        },
        "trusted": true,
        "id": "QUWjOioFxKJu"
      },
      "outputs": [],
      "execution_count": null
    },
    {
      "cell_type": "code",
      "source": [
        "train_df['label'] = train_df['label'].map(label_map)\n",
        "test_df['label'] = test_df['label'].map(label_map)"
      ],
      "metadata": {
        "execution": {
          "iopub.execute_input": "2025-04-19T16:01:29.57521Z",
          "iopub.status.busy": "2025-04-19T16:01:29.574942Z",
          "iopub.status.idle": "2025-04-19T16:01:29.589153Z",
          "shell.execute_reply": "2025-04-19T16:01:29.588383Z",
          "shell.execute_reply.started": "2025-04-19T16:01:29.575188Z"
        },
        "trusted": true,
        "id": "r2XgweCaxKJv"
      },
      "outputs": [],
      "execution_count": null
    },
    {
      "cell_type": "code",
      "source": [
        "class ImageDataset(Dataset):\n",
        "    def __init__(self, dataframe, transform=None):\n",
        "        self.dataframe = dataframe\n",
        "        self.transform = transform\n",
        "\n",
        "    def __len__(self):\n",
        "        return len(self.dataframe)\n",
        "\n",
        "    def __getitem__(self, idx):\n",
        "        img_path = self.dataframe.iloc[idx, 0]\n",
        "        label = self.dataframe.iloc[idx, 1]\n",
        "        img = Image.open(img_path).convert('RGB')\n",
        "\n",
        "        if self.transform:\n",
        "            img = self.transform(img)\n",
        "\n",
        "        return img, label"
      ],
      "metadata": {
        "execution": {
          "iopub.execute_input": "2025-04-19T16:01:29.590174Z",
          "iopub.status.busy": "2025-04-19T16:01:29.589918Z",
          "iopub.status.idle": "2025-04-19T16:01:29.604769Z",
          "shell.execute_reply": "2025-04-19T16:01:29.604029Z",
          "shell.execute_reply.started": "2025-04-19T16:01:29.590148Z"
        },
        "trusted": true,
        "id": "3KCW_WKrxKJv"
      },
      "outputs": [],
      "execution_count": null
    },
    {
      "cell_type": "code",
      "source": [
        "train_transform = transforms.Compose([\n",
        "\n",
        "   transforms.Resize(target_size),\n",
        "   transforms.RandomHorizontalFlip(),\n",
        "   transforms.RandomAffine(degrees=0, translate=(0.1, 0.1)),\n",
        "   transforms.ColorJitter(brightness=(0.8, 1.2)),\n",
        "   transforms.RandomRotation(10),\n",
        "   transforms.ToTensor(),\n",
        "   transforms.Normalize(mean=[0.485, 0.456, 0.406], std=[0.229, 0.224, 0.225])\n",
        "])\n",
        "\n",
        "test_transform = transforms.Compose([\n",
        "    transforms.Resize((224,224)),\n",
        "    transforms.ToTensor(),\n",
        "    transforms.Normalize(mean=[0.485, 0.456, 0.406], std=[0.229, 0.224, 0.225])\n",
        "])\n",
        "\n"
      ],
      "metadata": {
        "execution": {
          "iopub.execute_input": "2025-04-19T16:01:29.60602Z",
          "iopub.status.busy": "2025-04-19T16:01:29.60556Z",
          "iopub.status.idle": "2025-04-19T16:01:29.62017Z",
          "shell.execute_reply": "2025-04-19T16:01:29.619494Z",
          "shell.execute_reply.started": "2025-04-19T16:01:29.606Z"
        },
        "trusted": true,
        "id": "vPMIGBIZxKJv"
      },
      "outputs": [],
      "execution_count": null
    },
    {
      "cell_type": "code",
      "source": [
        "test_df_split, val_df_split = train_test_split(test_df, test_size=0.5, random_state=random_state)\n",
        "# Reset indices for consistency\n",
        "test_df_split = test_df_split.reset_index(drop=True)\n",
        "val_df_split = val_df_split.reset_index(drop=True)"
      ],
      "metadata": {
        "execution": {
          "iopub.execute_input": "2025-04-19T16:01:29.621581Z",
          "iopub.status.busy": "2025-04-19T16:01:29.620912Z",
          "iopub.status.idle": "2025-04-19T16:01:29.639886Z",
          "shell.execute_reply": "2025-04-19T16:01:29.63926Z",
          "shell.execute_reply.started": "2025-04-19T16:01:29.621548Z"
        },
        "trusted": true,
        "id": "7sy7Vt2-xKJw"
      },
      "outputs": [],
      "execution_count": null
    },
    {
      "cell_type": "code",
      "source": [
        "train_dataset = ImageDataset(train_df, transform=train_transform)\n",
        "val_dataset = ImageDataset(val_df_split, transform=test_transform)\n",
        "test_dataset = ImageDataset(test_df_split, transform=test_transform)\n",
        "\n",
        "# DataLoader\n",
        "train_loader = DataLoader(train_dataset, batch_size=batch_size, shuffle=True)\n",
        "val_loader = DataLoader(val_dataset, batch_size=batch_size, shuffle=False)\n",
        "test_loader = DataLoader(test_dataset, batch_size=batch_size, shuffle=False)\n"
      ],
      "metadata": {
        "execution": {
          "iopub.execute_input": "2025-04-19T16:01:29.640914Z",
          "iopub.status.busy": "2025-04-19T16:01:29.640711Z",
          "iopub.status.idle": "2025-04-19T16:01:29.654737Z",
          "shell.execute_reply": "2025-04-19T16:01:29.654049Z",
          "shell.execute_reply.started": "2025-04-19T16:01:29.6409Z"
        },
        "trusted": true,
        "id": "A8JydC2LxKJw"
      },
      "outputs": [],
      "execution_count": null
    },
    {
      "cell_type": "code",
      "source": [
        "class BrainTumorCNN(nn.Module):\n",
        "    def __init__(self, num_classes=4):\n",
        "        super(BrainTumorCNN, self).__init__()\n",
        "\n",
        "        self.relu = nn.ReLU()\n",
        "        self.pool = nn.MaxPool2d(kernel_size=2, stride=2)\n",
        "        self.dropout = nn.Dropout(0.5)\n",
        "        self.conv1 = nn.Conv2d(3, 32, kernel_size=3, padding=1)\n",
        "        self.conv2 = nn.Conv2d(32, 64, kernel_size=3, padding=1)\n",
        "        self.conv3 = nn.Conv2d(64, 128, kernel_size=3, padding=1)\n",
        "        self.conv4 = nn.Conv2d(128, 256, kernel_size=3, padding=1)\n",
        "        self.conv5 = nn.Conv2d(256, 256, kernel_size=3, padding=1)\n",
        "        self.flatten = nn.Flatten()\n",
        "        self.fc1 = nn.Linear(256 * 7 * 7, 512)\n",
        "        self.fc2 = nn.Linear(512, num_classes)\n",
        "\n",
        "    def forward(self, x):\n",
        "        x = self.pool(self.relu(self.conv1(x)))\n",
        "        x = self.pool(self.relu(self.conv2(x)))\n",
        "        x = self.pool(self.relu(self.conv3(x)))\n",
        "        x = self.pool(self.relu(self.conv4(x)))\n",
        "        x = self.pool(self.relu(self.conv5(x)))\n",
        "\n",
        "        x = self.flatten(x)\n",
        "        x = self.dropout(self.relu(self.fc1(x)))\n",
        "        x = self.fc2(x)\n",
        "\n",
        "        return x"
      ],
      "metadata": {
        "execution": {
          "iopub.execute_input": "2025-04-19T17:59:57.974917Z",
          "iopub.status.busy": "2025-04-19T17:59:57.974744Z",
          "iopub.status.idle": "2025-04-19T17:59:57.994143Z",
          "shell.execute_reply": "2025-04-19T17:59:57.993583Z",
          "shell.execute_reply.started": "2025-04-19T17:59:57.974902Z"
        },
        "trusted": true,
        "id": "28IwSqJhxKJx"
      },
      "outputs": [],
      "execution_count": null
    },
    {
      "cell_type": "code",
      "source": [
        "model = BrainTumorCNN(num_classes=4).to(device)\n",
        "criterion = nn.CrossEntropyLoss()\n",
        "optimizer = torch.optim.Adam(model.parameters(), lr=0.0007)"
      ],
      "metadata": {
        "execution": {
          "iopub.execute_input": "2025-04-19T16:01:29.672712Z",
          "iopub.status.busy": "2025-04-19T16:01:29.672331Z",
          "iopub.status.idle": "2025-04-19T16:01:29.943691Z",
          "shell.execute_reply": "2025-04-19T16:01:29.943169Z",
          "shell.execute_reply.started": "2025-04-19T16:01:29.672695Z"
        },
        "trusted": true,
        "id": "neKc6tX2xKJx"
      },
      "outputs": [],
      "execution_count": null
    },
    {
      "cell_type": "code",
      "source": [
        "def train_model(model, train_loader, val_loader, criterion, optimizer, num_epochs=10, name='model', patience=7):\n",
        "    device = torch.device(\"cuda\" if torch.cuda.is_available() else \"cpu\")\n",
        "    model.to(device)\n",
        "\n",
        "    best_val_loss = float(\"inf\")\n",
        "    tolerance = 0\n",
        "    history = {'train_loss': [], 'train_acc': [], 'val_loss': [], 'val_acc': []}\n",
        "\n",
        "    for epoch in range(num_epochs):\n",
        "        # Training phase\n",
        "        model.train()\n",
        "        running_loss = 0.0\n",
        "        correct_train = 0\n",
        "        total_train = 0\n",
        "        for images, labels in train_loader:\n",
        "            images, labels = images.to(device), labels.to(device)\n",
        "            optimizer.zero_grad()\n",
        "            outputs = model(images)\n",
        "            loss = criterion(outputs, labels)\n",
        "            loss.backward()\n",
        "            optimizer.step()\n",
        "            running_loss += loss.item()\n",
        "            _, predicted = torch.max(outputs, 1)\n",
        "            total_train += labels.size(0)\n",
        "            correct_train += (predicted == labels).sum().item()\n",
        "\n",
        "        train_loss = running_loss / len(train_loader)\n",
        "        train_acc = 100 * correct_train / total_train\n",
        "        model.eval()\n",
        "        val_loss = 0.0\n",
        "        correct_val = 0\n",
        "        total_val = 0\n",
        "        with torch.no_grad():\n",
        "            for images, labels in val_loader:\n",
        "                images, labels = images.to(device), labels.to(device)\n",
        "                outputs = model(images)\n",
        "                loss = criterion(outputs, labels)\n",
        "                val_loss += loss.item()\n",
        "                _, predicted = torch.max(outputs, 1)\n",
        "                total_val += labels.size(0)\n",
        "                correct_val += (predicted == labels).sum().item()\n",
        "\n",
        "        val_loss = val_loss / len(val_loader)\n",
        "        val_acc = 100 * correct_val / total_val\n",
        "\n",
        "        history['train_loss'].append(train_loss)\n",
        "        history['train_acc'].append(train_acc)\n",
        "        history['val_loss'].append(val_loss)\n",
        "        history['val_acc'].append(val_acc)\n",
        "\n",
        "        print(f\"Epoch [{epoch+1}/{num_epochs}]\")\n",
        "        print(f\"Train Loss: {train_loss:.4f}, Train Accuracy: {train_acc:.2f}%\")\n",
        "        print(f\"Val Loss: {val_loss:.4f}, Val Accuracy: {val_acc:.2f}%\")\n",
        "        print(\"#\" * 80)\n",
        "        if val_loss < best_val_loss:\n",
        "            best_val_loss = val_loss\n",
        "            torch.save(model.state_dict(), f'best_brain_tumor_{name}.pth')\n",
        "            tolerance = 0\n",
        "        else:\n",
        "            tolerance += 1\n",
        "            if tolerance >= patience:\n",
        "                print(f\"Early stopping triggered after {epoch+1} epochs.\")\n",
        "                break\n",
        "\n",
        "    return history\n"
      ],
      "metadata": {
        "execution": {
          "iopub.execute_input": "2025-04-19T16:01:29.944611Z",
          "iopub.status.busy": "2025-04-19T16:01:29.944411Z",
          "iopub.status.idle": "2025-04-19T16:01:29.953991Z",
          "shell.execute_reply": "2025-04-19T16:01:29.953278Z",
          "shell.execute_reply.started": "2025-04-19T16:01:29.944595Z"
        },
        "trusted": true,
        "id": "Mn-7N4dTxKJx"
      },
      "outputs": [],
      "execution_count": null
    },
    {
      "cell_type": "code",
      "source": [
        "def test_model(model, test_loader, num_images_to_show=10):\n",
        "    device = torch.device(\"cuda\" if torch.cuda.is_available() else \"cpu\")\n",
        "    model.to(device)\n",
        "    model.eval()\n",
        "\n",
        "    correct = 0\n",
        "    total = 0\n",
        "\n",
        "    all_preds = []\n",
        "    all_labels = []\n",
        "    all_images = []\n",
        "\n",
        "    with torch.no_grad():\n",
        "        for images, labels in test_loader:\n",
        "            images, labels = images.to(device), labels.to(device)\n",
        "            outputs = model(images)\n",
        "            _, predicted = torch.max(outputs, 1)\n",
        "            total += labels.size(0)\n",
        "            correct += (predicted == labels).sum().item()\n",
        "            all_preds.extend(predicted.cpu().numpy())\n",
        "            all_labels.extend(labels.cpu().numpy())\n",
        "            all_images.extend(images.cpu())\n",
        "\n",
        "    test_acc = 100 * correct / total\n",
        "\n",
        "    cm = confusion_matrix(all_labels, all_preds)\n",
        "\n",
        "    print(f\"Test Accuracy: {test_acc:.2f}%\\n\")\n",
        "\n",
        "    # Print classification report\n",
        "    print(\"Classification Report:\\n\")\n",
        "    print(classification_report(all_labels, all_preds, target_names=categories))\n",
        "\n",
        "    # Plot confusion matrix\n",
        "    plt.figure(figsize=(8, 6))\n",
        "    sns.heatmap(cm, annot=True, fmt='d', cmap='Blues',\n",
        "                xticklabels=categories, yticklabels=categories)\n",
        "    plt.title('Confusion Matrix')\n",
        "    plt.xlabel('Predicted Label')\n",
        "    plt.ylabel('True Label')\n",
        "    plt.show()"
      ],
      "metadata": {
        "execution": {
          "iopub.execute_input": "2025-04-19T16:01:29.955148Z",
          "iopub.status.busy": "2025-04-19T16:01:29.954887Z",
          "iopub.status.idle": "2025-04-19T16:01:29.975796Z",
          "shell.execute_reply": "2025-04-19T16:01:29.975166Z",
          "shell.execute_reply.started": "2025-04-19T16:01:29.955109Z"
        },
        "trusted": true,
        "id": "9XLKqTxMxKJx"
      },
      "outputs": [],
      "execution_count": null
    },
    {
      "cell_type": "code",
      "source": [
        "print(\"Starting training...\")\n",
        "history = train_model(model, train_loader, val_loader, criterion, optimizer, num_epochs=60)"
      ],
      "metadata": {
        "execution": {
          "iopub.execute_input": "2025-04-19T16:01:29.976721Z",
          "iopub.status.busy": "2025-04-19T16:01:29.976503Z",
          "iopub.status.idle": "2025-04-19T16:34:25.00443Z",
          "shell.execute_reply": "2025-04-19T16:34:25.003697Z",
          "shell.execute_reply.started": "2025-04-19T16:01:29.976698Z"
        },
        "trusted": true,
        "id": "hTJoFn-uxKJy"
      },
      "outputs": [],
      "execution_count": null
    },
    {
      "cell_type": "code",
      "source": [
        "def plot_training_history(history, model_name=\"model\"):\n",
        "    plt.figure(figsize=(12, 4))\n",
        "    plt.subplot(1, 2, 1)\n",
        "    plt.plot(history['train_loss'], label='Train Loss')\n",
        "    plt.plot(history['val_loss'], label='Val Loss')\n",
        "    plt.title(f'{model_name} Loss')\n",
        "    plt.xlabel('Epoch')\n",
        "    plt.ylabel('Loss')\n",
        "    plt.legend()\n",
        "    plt.subplot(1, 2, 2)\n",
        "    plt.plot(history['train_acc'], label='Train Acc')\n",
        "    plt.plot(history['val_acc'], label='Val Acc')\n",
        "    plt.title(f'{model_name} Accuracy')\n",
        "    plt.xlabel('Epoch')\n",
        "    plt.ylabel('Accuracy (%)')\n",
        "    plt.legend()\n",
        "    plt.show()"
      ],
      "metadata": {
        "execution": {
          "iopub.execute_input": "2025-04-19T16:34:25.005653Z",
          "iopub.status.busy": "2025-04-19T16:34:25.005376Z",
          "iopub.status.idle": "2025-04-19T16:34:25.011114Z",
          "shell.execute_reply": "2025-04-19T16:34:25.010414Z",
          "shell.execute_reply.started": "2025-04-19T16:34:25.005628Z"
        },
        "trusted": true,
        "id": "kjrESd1zxKJy"
      },
      "outputs": [],
      "execution_count": null
    },
    {
      "cell_type": "code",
      "source": [
        "plot_training_history(history, model_name=\"CustomCNN\")"
      ],
      "metadata": {
        "execution": {
          "iopub.execute_input": "2025-04-19T16:34:25.012102Z",
          "iopub.status.busy": "2025-04-19T16:34:25.0119Z",
          "iopub.status.idle": "2025-04-19T16:34:25.291721Z",
          "shell.execute_reply": "2025-04-19T16:34:25.291017Z",
          "shell.execute_reply.started": "2025-04-19T16:34:25.01208Z"
        },
        "trusted": true,
        "id": "D79RxRjIxKJy"
      },
      "outputs": [],
      "execution_count": null
    },
    {
      "cell_type": "code",
      "source": [
        "print(\"\\nLoading best model for testing...\")\n",
        "model.load_state_dict(torch.load('best_brain_tumor_model.pth'))\n",
        "test_model(model, test_loader)"
      ],
      "metadata": {
        "execution": {
          "iopub.execute_input": "2025-04-19T16:34:25.292809Z",
          "iopub.status.busy": "2025-04-19T16:34:25.292469Z",
          "iopub.status.idle": "2025-04-19T16:34:30.71478Z",
          "shell.execute_reply": "2025-04-19T16:34:30.714246Z",
          "shell.execute_reply.started": "2025-04-19T16:34:25.292781Z"
        },
        "trusted": true,
        "id": "2m1nPbXcxKJ5"
      },
      "outputs": [],
      "execution_count": null
    },
    {
      "cell_type": "code",
      "source": [
        "def visualize_predictions(model, test_loader, num_images=10):\n",
        "    device = torch.device(\"cuda\" if torch.cuda.is_available() else \"cpu\")\n",
        "    model.to(device)\n",
        "    model.eval()\n",
        "\n",
        "    correct_images, incorrect_images = [], []\n",
        "    correct_labels, incorrect_labels = [], []\n",
        "    correct_preds, incorrect_preds = [], []\n",
        "\n",
        "    with torch.no_grad():\n",
        "        for images, labels in test_loader:\n",
        "            images, labels = images.to(device), labels.to(device)\n",
        "            outputs = model(images)\n",
        "            _, predicted = torch.max(outputs, 1)\n",
        "            for i in range(len(predicted)):\n",
        "                if predicted[i] == labels[i]:\n",
        "                    correct_images.append(images[i])\n",
        "                    correct_labels.append(labels[i].cpu().item())\n",
        "                    correct_preds.append(predicted[i].cpu().item())\n",
        "                else:\n",
        "                    incorrect_images.append(images[i])\n",
        "                    incorrect_labels.append(labels[i].cpu().item())\n",
        "                    incorrect_preds.append(predicted[i].cpu().item())\n",
        "\n",
        "\n",
        "    mean = torch.tensor([0.485, 0.456, 0.406]).view(3, 1, 1).to(device)\n",
        "    std = torch.tensor([0.229, 0.224, 0.225]).view(3, 1, 1).to(device)\n",
        "\n",
        "    num_cols = num_images // 2\n",
        "    plt.figure(figsize=(15, 7))\n",
        "\n",
        "    for i, img_tensor in enumerate(correct_images[:num_images // 2]):\n",
        "        img_tensor = img_tensor * std + mean\n",
        "        img = np.clip(img_tensor.permute(1, 2, 0).cpu().numpy(), 0, 1)\n",
        "        plt.subplot(2, num_cols, i + 1)\n",
        "        plt.imshow(img)\n",
        "        plt.title(f\"True: {categories[correct_labels[i]]}\\nPred: {categories[correct_preds[i]]}\", color='green', fontsize=15)\n",
        "        plt.axis('off')\n",
        "\n",
        "    for i, img_tensor in enumerate(incorrect_images[:num_images // 2]):\n",
        "        if i >= len(incorrect_images):\n",
        "            plt.axis('off')\n",
        "            continue\n",
        "        img_tensor = img_tensor * std + mean\n",
        "        img = np.clip(img_tensor.permute(1, 2, 0).cpu().numpy(), 0, 1)\n",
        "        plt.subplot(2, num_cols, num_cols + i + 1)\n",
        "        plt.imshow(img)\n",
        "        plt.title(f\"True: {categories[incorrect_labels[i]]}\\nPred: {categories[incorrect_preds[i]]}\", color='red', fontsize=15)\n",
        "        plt.axis('off')\n",
        "\n",
        "    plt.tight_layout()\n",
        "    plt.show()\n"
      ],
      "metadata": {
        "execution": {
          "iopub.execute_input": "2025-04-19T19:47:48.708905Z",
          "iopub.status.busy": "2025-04-19T19:47:48.708643Z",
          "iopub.status.idle": "2025-04-19T19:47:48.718892Z",
          "shell.execute_reply": "2025-04-19T19:47:48.718081Z",
          "shell.execute_reply.started": "2025-04-19T19:47:48.708885Z"
        },
        "trusted": true,
        "id": "WgDPa3qtxKJ5"
      },
      "outputs": [],
      "execution_count": null
    },
    {
      "cell_type": "code",
      "source": [
        "visualize_predictions(model, test_loader, 8)"
      ],
      "metadata": {
        "execution": {
          "iopub.execute_input": "2025-04-19T19:47:48.720366Z",
          "iopub.status.busy": "2025-04-19T19:47:48.720155Z",
          "iopub.status.idle": "2025-04-19T19:47:52.148915Z",
          "shell.execute_reply": "2025-04-19T19:47:52.148183Z",
          "shell.execute_reply.started": "2025-04-19T19:47:48.720352Z"
        },
        "trusted": true,
        "id": "mKiKZa_FxKJ5"
      },
      "outputs": [],
      "execution_count": null
    },
    {
      "cell_type": "code",
      "source": [
        "model2 = models.resnet18(pretrained=True)"
      ],
      "metadata": {
        "execution": {
          "iopub.execute_input": "2025-04-19T18:43:34.520893Z",
          "iopub.status.busy": "2025-04-19T18:43:34.519903Z",
          "iopub.status.idle": "2025-04-19T18:43:34.700622Z",
          "shell.execute_reply": "2025-04-19T18:43:34.699876Z",
          "shell.execute_reply.started": "2025-04-19T18:43:34.520861Z"
        },
        "trusted": true,
        "id": "imjRnZq0xKJ7"
      },
      "outputs": [],
      "execution_count": null
    },
    {
      "cell_type": "code",
      "source": [
        "for param in model2.parameters():\n",
        "    param.requires_grad = False"
      ],
      "metadata": {
        "execution": {
          "iopub.execute_input": "2025-04-19T18:43:37.768274Z",
          "iopub.status.busy": "2025-04-19T18:43:37.767623Z",
          "iopub.status.idle": "2025-04-19T18:43:37.771806Z",
          "shell.execute_reply": "2025-04-19T18:43:37.771106Z",
          "shell.execute_reply.started": "2025-04-19T18:43:37.768248Z"
        },
        "trusted": true,
        "id": "pI4HICTFxKJ9"
      },
      "outputs": [],
      "execution_count": null
    },
    {
      "cell_type": "code",
      "source": [
        "num_ftrs = model2.fc.in_features\n",
        "model2.fc = nn.Sequential(\n",
        "    nn.Linear(num_ftrs, 512),\n",
        "    nn.ReLU(),\n",
        "    nn.Dropout(0.5),\n",
        "    nn.Linear(512, 4)\n",
        ")"
      ],
      "metadata": {
        "execution": {
          "iopub.execute_input": "2025-04-19T18:43:37.906879Z",
          "iopub.status.busy": "2025-04-19T18:43:37.906515Z",
          "iopub.status.idle": "2025-04-19T18:43:37.91246Z",
          "shell.execute_reply": "2025-04-19T18:43:37.911911Z",
          "shell.execute_reply.started": "2025-04-19T18:43:37.906863Z"
        },
        "trusted": true,
        "id": "a-sTsF8CxKJ_"
      },
      "outputs": [],
      "execution_count": null
    },
    {
      "cell_type": "code",
      "source": [
        "model2 = model2.to(device)"
      ],
      "metadata": {
        "execution": {
          "iopub.execute_input": "2025-04-19T18:43:38.153338Z",
          "iopub.status.busy": "2025-04-19T18:43:38.153122Z",
          "iopub.status.idle": "2025-04-19T18:43:38.17147Z",
          "shell.execute_reply": "2025-04-19T18:43:38.170932Z",
          "shell.execute_reply.started": "2025-04-19T18:43:38.153323Z"
        },
        "trusted": true,
        "id": "AITkIvJnxKJ_"
      },
      "outputs": [],
      "execution_count": null
    },
    {
      "cell_type": "code",
      "source": [
        "optimizer = optim.Adam(model2.fc.parameters(), lr=0.001)"
      ],
      "metadata": {
        "execution": {
          "iopub.execute_input": "2025-04-19T18:43:39.512303Z",
          "iopub.status.busy": "2025-04-19T18:43:39.511865Z",
          "iopub.status.idle": "2025-04-19T18:43:39.517031Z",
          "shell.execute_reply": "2025-04-19T18:43:39.516295Z",
          "shell.execute_reply.started": "2025-04-19T18:43:39.512279Z"
        },
        "trusted": true,
        "id": "shEE9JVqxKJ_"
      },
      "outputs": [],
      "execution_count": null
    },
    {
      "cell_type": "code",
      "source": [
        "print(\"Starting training...\")\n",
        "history = train_model(model2, train_loader, val_loader, criterion, optimizer, num_epochs=60, name='resnet18')"
      ],
      "metadata": {
        "execution": {
          "iopub.execute_input": "2025-04-19T18:43:39.877363Z",
          "iopub.status.busy": "2025-04-19T18:43:39.876819Z",
          "iopub.status.idle": "2025-04-19T18:55:25.125468Z",
          "shell.execute_reply": "2025-04-19T18:55:25.124673Z",
          "shell.execute_reply.started": "2025-04-19T18:43:39.877342Z"
        },
        "trusted": true,
        "id": "GbxrkvrixKKA"
      },
      "outputs": [],
      "execution_count": null
    },
    {
      "cell_type": "code",
      "source": [
        "plot_training_history(history, model_name=\"ResNet18\")"
      ],
      "metadata": {
        "execution": {
          "iopub.execute_input": "2025-04-19T18:55:25.127201Z",
          "iopub.status.busy": "2025-04-19T18:55:25.126911Z",
          "iopub.status.idle": "2025-04-19T18:55:25.434755Z",
          "shell.execute_reply": "2025-04-19T18:55:25.434166Z",
          "shell.execute_reply.started": "2025-04-19T18:55:25.127178Z"
        },
        "trusted": true,
        "id": "LDtTy4Z5xKKA"
      },
      "outputs": [],
      "execution_count": null
    },
    {
      "cell_type": "code",
      "source": [
        "print(\"\\nLoading best model for testing...\")\n",
        "model2.load_state_dict(torch.load('best_brain_tumor_resnet18.pth'))\n",
        "test_model(model2, test_loader)"
      ],
      "metadata": {
        "execution": {
          "iopub.execute_input": "2025-04-19T18:55:25.435865Z",
          "iopub.status.busy": "2025-04-19T18:55:25.435563Z",
          "iopub.status.idle": "2025-04-19T18:55:28.702264Z",
          "shell.execute_reply": "2025-04-19T18:55:28.701549Z",
          "shell.execute_reply.started": "2025-04-19T18:55:25.435839Z"
        },
        "trusted": true,
        "id": "_QEmegeyxKKA"
      },
      "outputs": [],
      "execution_count": null
    },
    {
      "cell_type": "code",
      "source": [
        "visualize_predictions(model2, test_loader, 8)"
      ],
      "metadata": {
        "execution": {
          "iopub.execute_input": "2025-04-19T19:49:13.438324Z",
          "iopub.status.busy": "2025-04-19T19:49:13.437841Z",
          "iopub.status.idle": "2025-04-19T19:49:17.184934Z",
          "shell.execute_reply": "2025-04-19T19:49:17.184249Z",
          "shell.execute_reply.started": "2025-04-19T19:49:13.438299Z"
        },
        "trusted": true,
        "id": "WayjF3hAxKKB"
      },
      "outputs": [],
      "execution_count": null
    },
    {
      "cell_type": "code",
      "source": [
        "for name, param in model2.named_parameters():\n",
        "    if 'layer4' in name or 'layer3' in name or 'fc' in name:\n",
        "        param.requires_grad = True"
      ],
      "metadata": {
        "execution": {
          "iopub.execute_input": "2025-04-19T18:55:32.490928Z",
          "iopub.status.busy": "2025-04-19T18:55:32.49073Z",
          "iopub.status.idle": "2025-04-19T18:55:32.494844Z",
          "shell.execute_reply": "2025-04-19T18:55:32.494174Z",
          "shell.execute_reply.started": "2025-04-19T18:55:32.490912Z"
        },
        "trusted": true,
        "id": "CiNjhn2-xKKC"
      },
      "outputs": [],
      "execution_count": null
    },
    {
      "cell_type": "code",
      "source": [
        "optimizer = optim.Adam(filter(lambda p: p.requires_grad, model2.parameters()), lr=1e-4)"
      ],
      "metadata": {
        "execution": {
          "iopub.execute_input": "2025-04-19T18:55:32.495776Z",
          "iopub.status.busy": "2025-04-19T18:55:32.495585Z",
          "iopub.status.idle": "2025-04-19T18:55:32.50677Z",
          "shell.execute_reply": "2025-04-19T18:55:32.506171Z",
          "shell.execute_reply.started": "2025-04-19T18:55:32.495762Z"
        },
        "trusted": true,
        "id": "DVXZebWwxKKC"
      },
      "outputs": [],
      "execution_count": null
    },
    {
      "cell_type": "code",
      "source": [
        "print(\"Starting training...\")\n",
        "history = train_model(model2, train_loader, val_loader, criterion, optimizer, num_epochs=30, name='resnet18_finetuned')"
      ],
      "metadata": {
        "execution": {
          "iopub.execute_input": "2025-04-19T18:55:32.507568Z",
          "iopub.status.busy": "2025-04-19T18:55:32.50736Z",
          "iopub.status.idle": "2025-04-19T19:14:19.575047Z",
          "shell.execute_reply": "2025-04-19T19:14:19.574286Z",
          "shell.execute_reply.started": "2025-04-19T18:55:32.507546Z"
        },
        "trusted": true,
        "id": "gbxDREdJxKKC"
      },
      "outputs": [],
      "execution_count": null
    },
    {
      "cell_type": "code",
      "source": [
        "plot_training_history(history, model_name=\"ResNet18-Finetuned\")"
      ],
      "metadata": {
        "execution": {
          "iopub.execute_input": "2025-04-19T19:14:19.576016Z",
          "iopub.status.busy": "2025-04-19T19:14:19.575834Z",
          "iopub.status.idle": "2025-04-19T19:14:19.852534Z",
          "shell.execute_reply": "2025-04-19T19:14:19.851913Z",
          "shell.execute_reply.started": "2025-04-19T19:14:19.576002Z"
        },
        "trusted": true,
        "id": "fJ7KWlnGxKKC"
      },
      "outputs": [],
      "execution_count": null
    },
    {
      "cell_type": "code",
      "source": [
        "print(\"\\nLoading best model for testing...\")\n",
        "model2.load_state_dict(torch.load('best_brain_tumor_resnet18_finetuned.pth'))\n",
        "test_model(model2, test_loader)"
      ],
      "metadata": {
        "execution": {
          "iopub.execute_input": "2025-04-19T19:14:19.85406Z",
          "iopub.status.busy": "2025-04-19T19:14:19.853399Z",
          "iopub.status.idle": "2025-04-19T19:14:23.978576Z",
          "shell.execute_reply": "2025-04-19T19:14:23.978036Z",
          "shell.execute_reply.started": "2025-04-19T19:14:19.854041Z"
        },
        "trusted": true,
        "id": "sJkBsLCAxKKD"
      },
      "outputs": [],
      "execution_count": null
    },
    {
      "cell_type": "code",
      "source": [
        "visualize_predictions(model2, test_loader, 8)"
      ],
      "metadata": {
        "execution": {
          "iopub.execute_input": "2025-04-19T19:48:21.062741Z",
          "iopub.status.busy": "2025-04-19T19:48:21.062469Z",
          "iopub.status.idle": "2025-04-19T19:48:24.543965Z",
          "shell.execute_reply": "2025-04-19T19:48:24.543275Z",
          "shell.execute_reply.started": "2025-04-19T19:48:21.062719Z"
        },
        "trusted": true,
        "id": "oR2GX_DOxKKD"
      },
      "outputs": [],
      "execution_count": null
    }
  ]
}